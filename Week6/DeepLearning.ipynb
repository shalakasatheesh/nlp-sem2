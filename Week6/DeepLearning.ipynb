{
 "cells": [
  {
   "cell_type": "markdown",
   "id": "powered-slide",
   "metadata": {
    "deletable": false,
    "editable": false,
    "nbassignment": {
     "type": "header"
    },
    "nbgrader": {
     "cell_type": "markdown",
     "checksum": "a4fd6b7550484ed709bca7da18028042",
     "grade": false,
     "grade_id": "template_886979f3_0",
     "locked": true,
     "schema_version": 3,
     "solution": false,
     "task": false
    }
   },
   "source": [
    "<div class=\"alert alert-block alert-info\">\n",
    "    <h1>Natural Language Processing</h1>\n",
    "    <h3>General Information:</h3>\n",
    "    <p>Please do not add or delete any cells. Answers belong into the corresponding cells (below the question). If a function is given (either as a signature or a full function), you should not change the name, arguments or return value of the function.<br><br> If you encounter empty cells underneath the answer that can not be edited, please ignore them, they are for testing purposes.<br><br>When editing an assignment there can be the case that there are variables in the kernel. To make sure your assignment works, please restart the kernel and run all cells before submitting (e.g. via <i>Kernel -> Restart & Run All</i>).</p>\n",
    "    <p>Code cells where you are supposed to give your answer often include the line  ```raise NotImplementedError```. This makes it easier to automatically grade answers. If you edit the cell please outcomment or delete this line.</p>\n",
    "    <h3>Submission:</h3>\n",
    "    <p>Please submit your notebook via the web interface (in the main view -> Assignments -> Submit). The assignments are due on <b>Wednesday at 15:00</b>.</p>\n",
    "    <h3>Group Work:</h3>\n",
    "    <p>You are allowed to work in groups of up to two people. Please enter the UID (your username here) of each member of the group into the next cell. We apply plagiarism checking, so do not submit solutions from other people except your team members. If an assignment has a copied solution, the task will be graded with 0 points for all people with the same solution.</p>\n",
    "    <h3>Questions about the Assignment:</h3>\n",
    "    <p>If you have questions about the assignment please post them in the LEA forum before the deadline. Don't wait until the last day to post questions.</p>\n",
    "    \n",
    "</div>"
   ]
  },
  {
   "cell_type": "code",
   "execution_count": 280,
   "id": "controversial-biography",
   "metadata": {
    "nbassignment": {
     "type": "group_info"
    }
   },
   "outputs": [],
   "source": [
    "'''\n",
    "Group Work:\n",
    "Enter the UID of each team member into the variables. \n",
    "If you work alone please leave the second variable empty.\n",
    "'''\n",
    "member1 = 'Syed Mushrraf Ali (sali2s, 9040658)'\n",
    "member2 = 'Shalaka Satheesh (ssathe2s, 9040760)'"
   ]
  },
  {
   "cell_type": "markdown",
   "id": "political-transcription",
   "metadata": {
    "deletable": false,
    "editable": false,
    "nbgrader": {
     "cell_type": "markdown",
     "checksum": "5d5294afb63701d0282a98e5d2d27efe",
     "grade": false,
     "grade_id": "EncoderClassifier_AEncoderClassifier_BEncoderClassifier_CEncoderClassifier_DEncoderClassifier_EEncoderClassifier_FEncoderClassifier_G_Header",
     "locked": true,
     "schema_version": 3,
     "solution": false,
     "task": false
    }
   },
   "source": [
    "\n",
    "# Yelp Classifier\n",
    "\n",
    "You are given a set of $1,600$ Yelp reviews. Of these $800$ are rated with $5$ stars and the remaining $800$ with $1$ star.\n",
    "\n",
    "We now want to train a classifier using a LSTM to determine if a review is positive ($5$ stars) or negative ($1$ star). Each review is a dictionary with the fields ```text``` and ```stars```. The field ```text``` contains the tokenized review, the field ```stars``` contains the rating."
   ]
  },
  {
   "cell_type": "code",
   "execution_count": 281,
   "id": "invalid-rogers",
   "metadata": {
    "deletable": false,
    "editable": false,
    "nbgrader": {
     "cell_type": "code",
     "checksum": "3c26b3ce2681ef45a1a057e625f0eeac",
     "grade": false,
     "grade_id": "EncoderClassifier_A_Description0",
     "locked": true,
     "schema_version": 3,
     "solution": false,
     "task": false
    }
   },
   "outputs": [],
   "source": [
    "import pickle\n",
    "import random\n",
    "\n",
    "import numpy as np\n",
    "import tensorflow as tf\n",
    "import matplotlib.pyplot as plt\n",
    "\n",
    "from tensorflow.keras.layers import (Input, Dense, Activation, Embedding, LSTM)\n",
    "from tensorflow.keras.models import Model\n",
    "from tensorflow.keras.losses import BinaryCrossentropy\n",
    "from tensorflow.keras.preprocessing.sequence import pad_sequences\n",
    "from tensorflow.keras.preprocessing.text import Tokenizer\n",
    "\n",
    "from sklearn.model_selection import train_test_split\n",
    "\n",
    "# Setting a random seed for better reproducibility\n",
    "seed = 42\n",
    "\n",
    "random.seed(seed)\n",
    "np.random.seed(seed)\n",
    "tf.random.set_seed(seed)"
   ]
  },
  {
   "cell_type": "code",
   "execution_count": 282,
   "id": "dental-ready",
   "metadata": {
    "deletable": false,
    "editable": false,
    "nbgrader": {
     "cell_type": "code",
     "checksum": "513f0931ad70158e4aad942ad38e0853",
     "grade": false,
     "grade_id": "EncoderClassifier_A_Description1",
     "locked": true,
     "schema_version": 3,
     "solution": false,
     "task": false
    }
   },
   "outputs": [
    {
     "name": "stdout",
     "output_type": "stream",
     "text": [
      "{'text': ['10', 'pm', 'on', 'a', 'super', 'bowl', 'Sunday', 'and', 'they', \"'re\", 'already', 'closed', '?', '?', 'Weak', ',', 'no', 'wonder', 'the', 'hard', 'Rock', 'is', 'dying', 'off', '...'], 'stars': 1}\n"
     ]
    }
   ],
   "source": [
    "with open('/srv/shares/NLP/yelp_binary.pkl', 'rb') as f:\n",
    "    reviews = pickle.loads(f.read())\n",
    "    \n",
    "# Show a sample review\n",
    "print(reviews[3])"
   ]
  },
  {
   "cell_type": "markdown",
   "id": "exact-treatment",
   "metadata": {
    "deletable": false,
    "editable": false,
    "nbgrader": {
     "cell_type": "markdown",
     "checksum": "f5ed7709bf500e661bc7a21048557e33",
     "grade": false,
     "grade_id": "EncoderClassifier_A_Description2",
     "locked": true,
     "schema_version": 3,
     "solution": false,
     "task": false
    }
   },
   "source": [
    "## Yelp Classifier A) [5 points]\n",
    "\n",
    "### Preparing the data\n",
    "\n",
    "Take the reviews and create the following two lists / arrays:\n",
    "\n",
    "- ```X```: Contains the tokenized reviews (list of lists of strings)\n",
    "- ```Y```: Contains the rating of the review (use $0$ for reviews with $1$ star and 1 for reviews with $5$ stars)\n",
    "\n",
    "Next we split the data into a train and a test set using the function ```train_test_split``` from ```sklearn```. We use a test_size of $0.15$ ($15\\%$) and store these in the variables ```X_train```, ```Y_train```, ```X_test```, ```Y_test```. We also set the random state to our seed (see imports cell) for reproducibility."
   ]
  },
  {
   "cell_type": "code",
   "execution_count": 283,
   "id": "finished-madagascar",
   "metadata": {
    "deletable": false,
    "nbgrader": {
     "cell_type": "code",
     "checksum": "f5d861ff3554d34bfc0fbb3145191df9",
     "grade": false,
     "grade_id": "EncoderClassifier_A",
     "locked": false,
     "schema_version": 3,
     "solution": true,
     "task": false
    }
   },
   "outputs": [
    {
     "name": "stdout",
     "output_type": "stream",
     "text": [
      "1360\n",
      "240\n",
      "(1360,)\n",
      "(240,)\n"
     ]
    }
   ],
   "source": [
    "X = []         # This should be a list of lists of strings\n",
    "Y = np.array([]) # This should be a numpy array\n",
    "\n",
    "for i, review in enumerate(reviews):\n",
    "    X.append(list(review['text']))\n",
    "    if review['stars'] == 1:\n",
    "        Y = np.append(Y, 0)\n",
    "    elif review['stars'] == 5:\n",
    "        Y = np.append(Y, 1)\n",
    "\n",
    "X_train, X_test, Y_train, Y_test = train_test_split(X, Y, test_size=0.15, random_state=seed)\n",
    "\n",
    "print(len(X_train))  # Should be 1360\n",
    "print(len(X_test))   # Should be  240\n",
    "print(Y_train.shape) # Should print (1360,)\n",
    "print(Y_test.shape)  # Should print (240,)"
   ]
  },
  {
   "cell_type": "code",
   "execution_count": 284,
   "id": "strange-decimal",
   "metadata": {
    "deletable": false,
    "editable": false,
    "nbgrader": {
     "cell_type": "code",
     "checksum": "ac85fd02fff148648f456c0221a9159e",
     "grade": true,
     "grade_id": "test_EncoderClassifier_A0",
     "locked": true,
     "points": 5,
     "schema_version": 3,
     "solution": false,
     "task": false
    }
   },
   "outputs": [],
   "source": [
    "# This is a test cell. Please ignore it!"
   ]
  },
  {
   "cell_type": "markdown",
   "id": "gross-switch",
   "metadata": {
    "deletable": false,
    "editable": false,
    "nbgrader": {
     "cell_type": "markdown",
     "checksum": "9a67d7250f28ebccc903f666086bb7b7",
     "grade": false,
     "grade_id": "EncoderClassifier_B_Description0",
     "locked": true,
     "schema_version": 3,
     "solution": false,
     "task": false
    }
   },
   "source": [
    "## Yelp Classifier B) [5 points]\n",
    "\n",
    "### Tokenize reviews into integer indexes\n",
    "\n",
    "Next we need to tokenize the reviews into integer indexes. For this we can use the build in tokenizer from keras (```tensorflow.keras.preprocessing.text.Tokenizer```). We only want to take the $5000$ most frequent words for this, ignoring all others.\n",
    "\n",
    "The tokenizer has the following methods we will use:\n",
    "\n",
    "- ```__init__(self, num_words)```: Constructor that takes the number of most frequent words we want to keep\n",
    "- ```fit_on_texts(self, data)```: Fit the tokenizer on the data (e.g. our train inputs)\n",
    "- ```texts_to_sequences(self, texts)```: Convert a list of texts or list of tokenized reviews to a list of integer indexes\n",
    "- ```sequences_to_texts(self, sequences)```: Convert a list of sequences back to texts\n",
    "\n",
    "**Attention:** We only want to fit our tokenizer on the train reviews, not on the test reviews.\n",
    "\n",
    "Your task is now to:\n",
    "\n",
    "1. Create a tokenizer that only keeps the $5000$ most frequent words\n",
    "2. Fit the tokenizer on our training data\n",
    "3. Convert the training data (```X_train```) to integer sequences and store these in the variable ```train_sequences```.\n",
    "4. Convert the test data (```X_test```) to integer sequences and store these in the variable ```test_sequences```."
   ]
  },
  {
   "cell_type": "code",
   "execution_count": 285,
   "id": "hybrid-buying",
   "metadata": {
    "deletable": false,
    "nbgrader": {
     "cell_type": "code",
     "checksum": "cee42eb4db16ee2a511dba2ec1bba369",
     "grade": false,
     "grade_id": "EncoderClassifier_B",
     "locked": false,
     "schema_version": 3,
     "solution": true,
     "task": false
    }
   },
   "outputs": [
    {
     "name": "stdout",
     "output_type": "stream",
     "text": [
      "[71, 132, 9, 118, 2641, 1007, 9, 61, 15, 139, 393, 5, 3, 159, 1, 61, 1267, 148, 1818, 3, 781, 9, 2642, 61, 34, 25, 38, 37, 139, 7, 152, 2641, 1007, 3905, 2, 6, 394, 42, 9]\n",
      "\n",
      "[\"great experience ! love amanda r ! she is always sweet , and friendly . she goes way above and beyond ! mornings she 's not there are always a little amanda r adds the to working out !\"]\n",
      "\n",
      "['Great', 'experience', '!', 'Love', 'Amanda', 'R', '!', 'She', 'is', 'always', 'sweet', ',', 'energetic', 'and', 'friendly', '.', 'She', 'goes', 'way', 'above', 'and', 'beyond', '!', 'Mornings', 'she', \"'s\", 'not', 'there', 'are', 'always', 'a', 'little', 'duller-', 'Amanda', 'R', 'adds', 'the', 'sparkle', 'to', 'working', 'out', '!']\n",
      "\n"
     ]
    }
   ],
   "source": [
    "tokenizer = None\n",
    "\n",
    "training_sequences = [[]]\n",
    "test_sequences = [[]]\n",
    "\n",
    "tokenizer = Tokenizer(num_words=5001)\n",
    "\n",
    "tokenizer.fit_on_texts(X_train) \n",
    "train_sequences = tokenizer.texts_to_sequences(X_train)\n",
    "test_sequences  = tokenizer.texts_to_sequences(X_test)\n",
    "\n",
    "# To make sure everything worked print a training example (this should print a list of integers)\n",
    "print(train_sequences[3])\n",
    "print()\n",
    "# Next take this list of integers and convert it back to a text\n",
    "print((tokenizer.sequences_to_texts([train_sequences[3]])))\n",
    "print()\n",
    "# Compare this to the corresponding training review\n",
    "print(X_train[3])\n",
    "print()"
   ]
  },
  {
   "cell_type": "code",
   "execution_count": 286,
   "id": "liquid-executive",
   "metadata": {
    "deletable": false,
    "editable": false,
    "nbgrader": {
     "cell_type": "code",
     "checksum": "96d1df82ca74b4e8ef4ca06284efd8d4",
     "grade": true,
     "grade_id": "test_EncoderClassifier_B0",
     "locked": true,
     "points": 5,
     "schema_version": 3,
     "solution": false,
     "task": false
    }
   },
   "outputs": [],
   "source": [
    "# This is a test cell. Please ignore it!"
   ]
  },
  {
   "cell_type": "markdown",
   "id": "worth-travel",
   "metadata": {
    "deletable": false,
    "editable": false,
    "nbgrader": {
     "cell_type": "markdown",
     "checksum": "ecab17c504478be449ebbeab45111272",
     "grade": false,
     "grade_id": "EncoderClassifier_C_Description0",
     "locked": true,
     "schema_version": 3,
     "solution": false,
     "task": false
    }
   },
   "source": [
    "## Yelp Classifier C) [15 points]\n",
    "\n",
    "### Converting the sequences to sequences of equal length\n",
    "\n",
    "Since the reviews vary in length, the training sequences will have different lengths.\n",
    "\n",
    "We want to make sure all training sequences have the same length. The length of our sequences is a hyperparameter. \n",
    "\n",
    "#### 1) Determining a maximum sequence length [10 points]\n",
    "\n",
    "To determine a good value for the maximum sequence length we can plot a histogram of sequence lengths, together with some statistical parameters (mean, median, $90\\%$ quantile).\n",
    "\n",
    "Here we can pick the $90\\%$ quantile (you can use ```numpy.quantile``` for this).\n",
    "\n",
    "Please plot the histrogram of the train sequence lengths. Add the mean, median and $90\\%$ quantile as vertical lines."
   ]
  },
  {
   "cell_type": "code",
   "execution_count": 287,
   "id": "global-florida",
   "metadata": {
    "deletable": false,
    "nbgrader": {
     "cell_type": "code",
     "checksum": "f2d915a60112a1014dec1dde36935e42",
     "grade": true,
     "grade_id": "EncoderClassifier_C",
     "locked": false,
     "points": 10,
     "schema_version": 3,
     "solution": true,
     "task": false
    }
   },
   "outputs": [
    {
     "name": "stdout",
     "output_type": "stream",
     "text": [
      "90% Quantile: 269.5000000000007\n",
      "Mean: 127.45367647058823\n",
      "Median: 88.0\n"
     ]
    },
    {
     "data": {
      "image/png": "[encoded data removed]",
      "text/plain": [
       "<Figure size 1440x720 with 1 Axes>"
      ]
     },
     "metadata": {
      "needs_background": "light"
     },
     "output_type": "display_data"
    }
   ],
   "source": [
    "from scipy.stats import skew\n",
    "\n",
    "lengths = []\n",
    "\n",
    "for i in range(len(train_sequences)):\n",
    "    lengths.append(len(train_sequences[i]))\n",
    "\n",
    "    \n",
    "print(\"90% Quantile:\", np.quantile(lengths, 0.9))\n",
    "print(\"Mean:\", np.mean(lengths))\n",
    "print(\"Median:\", np.quantile(lengths, 0.5))\n",
    "# print(\"Skew:\", skew(lengths))\n",
    "\n",
    "fig = plt.figure(figsize=(20,10))\n",
    "plt.hist(lengths, bins = list(range(0, len(lengths), \n",
    "                                    int((np.max(lengths) - np.min(lengths)) / np.sqrt(len(lengths))))),\n",
    "        alpha=0.5, edgecolor=\"black\", linewidth=1.5)\n",
    "plt.axvline(np.mean(lengths), color='red', linestyle='solid', linewidth=2, label='mean')\n",
    "plt.axvline(np.median(lengths), color='red', linestyle='dashed', linewidth=2, label = 'median')\n",
    "plt.axvline(np.quantile(lengths, 0.9), color='red', linestyle='dotted', linewidth=2, label = '90% quantile')\n",
    "plt.xlabel(\"Length of sequence\")\n",
    "plt.ylabel(\"Count\")\n",
    "plt.title(\"Histogram of lengths of training sequences\")\n",
    "plt.grid()\n",
    "plt.legend()\n",
    "plt.show()\n",
    "\n",
    "# The 90% quantile should be around 270 "
   ]
  },
  {
   "cell_type": "markdown",
   "id": "threaded-still",
   "metadata": {
    "deletable": false,
    "editable": false,
    "nbgrader": {
     "cell_type": "markdown",
     "checksum": "60f681272ee4374500b864df74dde7ed",
     "grade": false,
     "grade_id": "EncoderClassifier_D_Description0",
     "locked": true,
     "schema_version": 3,
     "solution": false,
     "task": false
    }
   },
   "source": [
    "#### 2) Padding / truncating the sequences [5 points]\n",
    "\n",
    "We found out that $90\\%$ of the reviews have a length of $\\leq 270$. \n",
    "\n",
    "Pad the training and test sequences using the function ```tensorflow.keras.preprocessing.sequence.pad_sequences```.\n",
    "\n",
    "Store these in the variables:\n",
    "\n",
    "- ```padded_train_sequences```\n",
    "- ```padded_test_sequences```"
   ]
  },
  {
   "cell_type": "code",
   "execution_count": 288,
   "id": "capital-marine",
   "metadata": {
    "deletable": false,
    "nbgrader": {
     "cell_type": "code",
     "checksum": "20fdb0bdb26f682490eafc02716b0275",
     "grade": false,
     "grade_id": "EncoderClassifier_D",
     "locked": false,
     "schema_version": 3,
     "solution": true,
     "task": false
    }
   },
   "outputs": [
    {
     "name": "stdout",
     "output_type": "stream",
     "text": [
      "(1360, 270)\n",
      "(240, 270)\n"
     ]
    }
   ],
   "source": [
    "padded_train_sequences = np.array([[]])\n",
    "padded_test_sequences = np.array([[]])\n",
    "\n",
    "padded_train_sequences = pad_sequences(train_sequences, maxlen=270)\n",
    "padded_test_sequences = pad_sequences(test_sequences, maxlen=270)\n",
    "\n",
    "print(padded_train_sequences.shape) # Should print (1360, 270)\n",
    "print(padded_test_sequences.shape)  # Should print  (240, 270)"
   ]
  },
  {
   "cell_type": "code",
   "execution_count": 289,
   "id": "consolidated-number",
   "metadata": {
    "deletable": false,
    "editable": false,
    "nbgrader": {
     "cell_type": "code",
     "checksum": "4713fcbf685764f72a77eb70768e00dc",
     "grade": true,
     "grade_id": "test_EncoderClassifier_D0",
     "locked": true,
     "points": 5,
     "schema_version": 3,
     "solution": false,
     "task": false
    }
   },
   "outputs": [],
   "source": [
    "# This is a test cell. Please ignore it!"
   ]
  },
  {
   "cell_type": "markdown",
   "id": "lovely-desktop",
   "metadata": {
    "deletable": false,
    "editable": false,
    "nbgrader": {
     "cell_type": "markdown",
     "checksum": "198be7f7878d3b9e997bbc493d2341e4",
     "grade": false,
     "grade_id": "EncoderClassifier_E_Description0",
     "locked": true,
     "schema_version": 3,
     "solution": false,
     "task": false
    }
   },
   "source": [
    "## Yelp Classifier D)\n",
    "\n",
    "### Define our model\n",
    "\n",
    "Our model should consist of the following layers:\n",
    "\n",
    "- Embedding layer with output dimension $32$\n",
    "- LSTM layer with output dimension $8$\n",
    "- Fully connected layer with a single output and sigmoid activation function\n",
    "\n",
    "Store your model in the variable ```yelp_model``` and print a summary.\n",
    "\n",
    "Your summary should look similar to this:\n",
    "\n",
    "```\n",
    "Model: \"Yelp_Model\"\n",
    "_________________________________________________________________\n",
    "Layer (type)                 Output Shape              Param #   \n",
    "=================================================================\n",
    "input_1 (InputLayer)         [(None, 270)]             0         \n",
    "_________________________________________________________________\n",
    "embedding (Embedding)        (None, 270, 16)           80016     \n",
    "_________________________________________________________________\n",
    "lstm (LSTM)                  (None, 8)                 800       \n",
    "_________________________________________________________________\n",
    "dense (Dense)                (None, 1)                 9         \n",
    "=================================================================\n",
    "Total params: 80,825\n",
    "Trainable params: 80,825\n",
    "Non-trainable params: 0\n",
    "```"
   ]
  },
  {
   "cell_type": "code",
   "execution_count": 292,
   "id": "appointed-craft",
   "metadata": {
    "deletable": false,
    "nbgrader": {
     "cell_type": "code",
     "checksum": "2579741cf9de8a0672fbd3848e205d99",
     "grade": true,
     "grade_id": "EncoderClassifier_E",
     "locked": false,
     "points": 20,
     "schema_version": 3,
     "solution": true,
     "task": false
    }
   },
   "outputs": [
    {
     "name": "stdout",
     "output_type": "stream",
     "text": [
      "Model: \"Yelp_Model\"\n",
      "_________________________________________________________________\n",
      "Layer (type)                 Output Shape              Param #   \n",
      "=================================================================\n",
      "input_1 (InputLayer)         [(None, 270)]             0         \n",
      "_________________________________________________________________\n",
      "embedding (Embedding)        (None, 270, 32)           160032    \n",
      "_________________________________________________________________\n",
      "lstm (LSTM)                  (None, 8)                 1312      \n",
      "_________________________________________________________________\n",
      "output (Dense)               (None, 1)                 9         \n",
      "=================================================================\n",
      "Total params: 161,353\n",
      "Trainable params: 161,353\n",
      "Non-trainable params: 0\n",
      "_________________________________________________________________\n"
     ]
    }
   ],
   "source": [
    "yelp_model = None\n",
    "\n",
    "# Define input object\n",
    "input_layer = Input(shape=(270,), name='input_1')\n",
    "\n",
    "# Define embedding layer and apply it to input\n",
    "# CHECK - OUTPUT DIM 32 or 16???\n",
    "embedding_layer = Embedding(5001, 32, name='embedding')\n",
    "y_embedded = embedding_layer(input_layer)\n",
    "\n",
    "# Define LSTM layer and apply it to embedding layer\n",
    "lstm_layer = LSTM(8, name='lstm')\n",
    "y_lstm = lstm_layer(y_embedded)\n",
    "\n",
    "# Find the output \n",
    "output_layer = Dense(1, activation='sigmoid', name='output')\n",
    "y = output_layer(y_lstm)\n",
    "\n",
    "# Build model\n",
    "yelp_model = Model(input_layer, y, name='Yelp_Model')\n",
    "\n",
    "# Print model summary\n",
    "yelp_model.summary()"
   ]
  },
  {
   "cell_type": "markdown",
   "id": "fourth-designer",
   "metadata": {
    "deletable": false,
    "editable": false,
    "nbgrader": {
     "cell_type": "markdown",
     "checksum": "7801dfab4669b6592cb88769c098e4a4",
     "grade": false,
     "grade_id": "EncoderClassifier_F_Description0",
     "locked": true,
     "schema_version": 3,
     "solution": false,
     "task": false
    }
   },
   "source": [
    "## Yelp Classifier E)\n",
    "\n",
    "### Compile our model\n",
    "\n",
    "Finally we need to compile our model.\n",
    "\n",
    "Use the binary crossentropy loss, the optimizer Adam and accuracy as a metric.\n",
    "\n",
    "Next fit the model to our training data using a batch size of $32$ for a total of $10$ epochs.\n",
    "\n",
    "**Attention:** Each time you execute this cell the model will be trained more (e.g. execute it once and we train for $10$ epochs, execute it twice and we train for $20$ epochs, ...). To reset the model execute the cell above again."
   ]
  },
  {
   "cell_type": "code",
   "execution_count": 293,
   "id": "eastern-geometry",
   "metadata": {
    "deletable": false,
    "nbgrader": {
     "cell_type": "code",
     "checksum": "557010c4135cd6b1b52ae2e39f4766cd",
     "grade": true,
     "grade_id": "EncoderClassifier_F",
     "locked": false,
     "points": 10,
     "schema_version": 3,
     "solution": true,
     "task": false
    }
   },
   "outputs": [
    {
     "name": "stdout",
     "output_type": "stream",
     "text": [
      "\n",
      "Test results - Loss: 0.2642 - Accuracy: 90.42%\n"
     ]
    }
   ],
   "source": [
    "# Compile model\n",
    "yelp_model.compile(\n",
    "    loss='binary_crossentropy',\n",
    "    optimizer='adam',\n",
    "    metrics=['accuracy']\n",
    ")\n",
    "\n",
    "# Fit model on training data\n",
    "history = yelp_model.fit(\n",
    "    x=padded_train_sequences,\n",
    "    y=Y_train,\n",
    "    epochs=10,\n",
    "    batch_size=32,\n",
    "    verbose=0\n",
    ")\n",
    "\n",
    "# Test the model after training\n",
    "test_results = yelp_model.evaluate(padded_test_sequences, Y_test, verbose=False)\n",
    "\n",
    "print()\n",
    "print(f'Test results - Loss: {test_results[0]:.4f} - Accuracy: {100*test_results[1]:.2f}%')"
   ]
  },
  {
   "cell_type": "markdown",
   "id": "civilian-thought",
   "metadata": {
    "deletable": false,
    "editable": false,
    "nbgrader": {
     "cell_type": "markdown",
     "checksum": "2f1064dd3e5d29d6cc8d34a786e250cf",
     "grade": false,
     "grade_id": "EncoderClassifier_G_Description0",
     "locked": true,
     "schema_version": 3,
     "solution": false,
     "task": false
    }
   },
   "source": [
    "## Yelp Classifier E) [15 points]\n",
    "\n",
    "### Bonus Task - Extract the embeddings\n",
    "\n",
    "This is a bonus task. You do not need to solve it to get $100\\%$ on this assignment.\n",
    "\n",
    "Extract the embeddings from the embedding layer of your model and create a dictionary for the embeddings.\n",
    "\n",
    "The embeddings are stored in the weight matrix of the embedding layer (```get_weights()```).\n",
    "\n",
    "To find out which row of the embedding matrix corresponds to which word we need to use the word_index of our tokenizer. This is a dictionary containts the words (tokens) as keys and their index as a value. We only look at the first $5000$ entries of the word index.\n",
    "\n",
    "Next create a VectorModel (see Assignment 4) with these embeddings and print the most similar words to the following input words:\n",
    "\n",
    "```['good', 'bad', 'fantastic', 'poor', 'amazing']```"
   ]
  },
  {
   "cell_type": "code",
   "execution_count": 294,
   "id": "starting-violin",
   "metadata": {
    "deletable": false,
    "nbgrader": {
     "cell_type": "code",
     "checksum": "64b67cfef01dbf56da53ab65a4dd87d5",
     "grade": true,
     "grade_id": "EncoderClassifier_G",
     "locked": false,
     "points": 15,
     "schema_version": 3,
     "solution": true,
     "task": false
    }
   },
   "outputs": [
    {
     "name": "stdout",
     "output_type": "stream",
     "text": [
      "[('recommend', 0.81893224), ('well', 0.8069197), ('maryland', 0.80338943)]\n",
      "[('horrible', 0.9279665), ('ok', 0.9263954), ('rude', 0.92201)]\n",
      "[('delicious', 0.9573931), ('great', 0.9530101), ('authentic', 0.9426832)]\n",
      "[('reason', 0.95335543), ('horrible', 0.94813013), ('waste', 0.94489443)]\n",
      "[('great', 0.97020495), ('favorite', 0.9622326), ('helpful', 0.96007586)]\n"
     ]
    }
   ],
   "source": [
    "from typing import List, Tuple, Dict\n",
    "import numpy as np\n",
    "\n",
    "   \n",
    "class VectorModel:\n",
    "    \n",
    "    def __init__(self, vector_dict: Dict[str, np.ndarray]):\n",
    "         self.vector_dict = vector_dict\n",
    "        \n",
    "    def embed(self, word: str) -> np.ndarray:\n",
    "        try:\n",
    "            embedding = self.vector_dict[word]\n",
    "            return embedding\n",
    "        except:\n",
    "            return None\n",
    "    \n",
    "    def vector_size(self) -> int:\n",
    "        return np.size(list(self.vector_dict.values())[0])\n",
    "    \n",
    "    def cosine_similarity(self, vec1: np.ndarray, vec2: np.ndarray) -> float:\n",
    "        \n",
    "        # Find cosine similarity between two words\n",
    "        similarity = np.dot(vec1, vec2) / (np.linalg.norm(vec1, ord=2) * np.linalg.norm(vec2, ord=2))\n",
    "        return similarity\n",
    "\n",
    "    def most_similar(self, word: str, top_n: int=5) -> List[Tuple[str, float]]:\n",
    "        \n",
    "        # Find the top n similar words for a given word by using cosine similarity \n",
    "        # The cosin similarity function is defined above\n",
    "        cosines = {key: self.cosine_similarity(self.embed(word), neighbour) for key, neighbour in self.vector_dict.items()}\n",
    "        cosines_sorted = dict(sorted(cosines.items(), key=lambda item: item[1], reverse=True))\n",
    "\n",
    "        most_similar = []\n",
    "        \n",
    "        for i in range(top_n):\n",
    "            most_similar.append((list(cosines_sorted.keys())[1], list(cosines_sorted.values())[1]))\n",
    "            del cosines_sorted[list(cosines_sorted.keys())[1]]\n",
    "        \n",
    "        return most_similar\n",
    "    \n",
    "    def most_similar_vec(self, vec: np.ndarray, top_n: int=5) -> List[Tuple[str, float]]:\n",
    "        \n",
    "        \n",
    "        cosines = {key: self.cosine_similarity(vec, neighbour) for key, neighbour in self.vector_dict.items()}\n",
    "        cosines_sorted = dict(sorted(cosines.items(), key=lambda item: item[1], reverse=True))\n",
    "    \n",
    "        most_similar = []\n",
    "        \n",
    "        for i in range(top_n):\n",
    "            most_similar.append((list(cosines_sorted.keys())[0], list(cosines_sorted.values())[0]))\n",
    "            del cosines_sorted[list(cosines_sorted.keys())[0]]\n",
    "        \n",
    "        return most_similar\n",
    "\n",
    "\n",
    "# Get the embeddings\n",
    "embeddings = yelp_model.get_layer('embedding').get_weights()[0]\n",
    "# print(np.shape(embeddings)) # (vocab_size, embedding_dimension)\n",
    "\n",
    "word_vectors = dict()\n",
    "for key, value in (tokenizer.word_index).items():\n",
    "    if value <= 5000:\n",
    "        word_vectors[key] = embeddings[value]\n",
    "        \n",
    "vector_model = VectorModel(word_vectors)\n",
    "\n",
    "for word in ['good', 'bad', 'fantastic', 'poor', 'amazing']:\n",
    "    print(vector_model.most_similar(word, 3))"
   ]
  },
  {
   "cell_type": "markdown",
   "id": "tough-professional",
   "metadata": {
    "deletable": false,
    "editable": false,
    "nbgrader": {
     "cell_type": "markdown",
     "checksum": "21aa3025388cfd3d016fed137737c926",
     "grade": false,
     "grade_id": "EncoderDecoder_AEncoderDecoder_BEncoderDecoder_CEncoderDecoder_D_Header",
     "locked": true,
     "schema_version": 3,
     "solution": false,
     "task": false
    }
   },
   "source": [
    "\n",
    "# Sequence to Sequence\n",
    "\n",
    "We want to train a sequence to sequence model, consisting of an LSTM encoder and an LSTM decoder.\n",
    "\n",
    "For this we use a dummy task that consists of translating date strings from one format to another.\n"
   ]
  },
  {
   "cell_type": "code",
   "execution_count": 176,
   "id": "studied-system",
   "metadata": {
    "deletable": false,
    "editable": false,
    "nbgrader": {
     "cell_type": "code",
     "checksum": "09a8384f5cea69e09a301384d31d2640",
     "grade": false,
     "grade_id": "EncoderDecoder_A_Description0",
     "locked": true,
     "schema_version": 3,
     "solution": false,
     "task": false
    }
   },
   "outputs": [],
   "source": [
    "import numpy as np\n",
    "import random as rd\n",
    "\n",
    "from tensorflow.keras.models import Model\n",
    "from tensorflow.keras.layers import (Embedding, Dense, LSTM, \n",
    "                                     TimeDistributed, Input, RepeatVector, Activation)\n",
    "from tensorflow.keras.losses import sparse_categorical_crossentropy\n",
    "\n",
    "from tensorflow.keras.preprocessing.text import Tokenizer\n",
    "\n",
    "from sklearn.model_selection import train_test_split"
   ]
  },
  {
   "cell_type": "code",
   "execution_count": 177,
   "id": "medieval-truck",
   "metadata": {
    "deletable": false,
    "editable": false,
    "nbgrader": {
     "cell_type": "code",
     "checksum": "ecce8e860c6b38dedd41a59047405736",
     "grade": false,
     "grade_id": "EncoderDecoder_A_Description1",
     "locked": true,
     "schema_version": 3,
     "solution": false,
     "task": false
    }
   },
   "outputs": [
    {
     "name": "stdout",
     "output_type": "stream",
     "text": [
      "[['2', '8', '-', '0', '3', '-', '1', '6', '2', '7'], ['1', '2', '-', '0', '1', '-', '1', '4', '5', '0'], ['0', '3', '-', '0', '6', '-', '1', '5', '2', '3']]\n",
      "[['1', '6', '2', '7', '-', '0', '3', '-', '2', '8'], ['1', '4', '5', '0', '-', '0', '1', '-', '1', '2'], ['1', '5', '2', '3', '-', '0', '6', '-', '0', '3']]\n"
     ]
    }
   ],
   "source": [
    "\n",
    "def translate_date(day, month, year):\n",
    "    return (\n",
    "        f'{day:02}-{month:02}-{year}',\n",
    "        f'{year:04}-{month:02}-{day:02}'\n",
    "    )\n",
    "\n",
    "def create_sample():\n",
    "    year = rd.choice(years)\n",
    "    day = rd.choice(days)\n",
    "    month = rd.choice(months)\n",
    "    return translate_date(day, month, year)\n",
    "\n",
    "def create_samples(n_samples=5000):\n",
    "    samples = set()\n",
    "    while len(samples) < n_samples:\n",
    "        samples.add(create_sample())\n",
    "    return list(samples)\n",
    "\n",
    "years = range(1000, 2022)\n",
    "days = range(1, 29)\n",
    "months = range(1, 13)\n",
    "\n",
    "N_samples = 10000\n",
    "\n",
    "samples = create_samples(N_samples)\n",
    "\n",
    "# Split into X and Y\n",
    "X, Y = zip(*samples)\n",
    "X = [list(x) for x in X]\n",
    "Y = [list(y) for y in Y]\n",
    "\n",
    "# Train / Test split\n",
    "X_train, X_test, Y_train, Y_test = train_test_split(X, Y, test_size=0.15, random_state=42)\n",
    "\n",
    "# Print the first three inputs and first three outputs\n",
    "print(X_train[:3])\n",
    "print(Y_train[:3])"
   ]
  },
  {
   "cell_type": "markdown",
   "id": "oriental-iceland",
   "metadata": {
    "deletable": false,
    "editable": false,
    "nbgrader": {
     "cell_type": "markdown",
     "checksum": "241623a203f203a751791c966dd811ab",
     "grade": false,
     "grade_id": "EncoderDecoder_A_Description2",
     "locked": true,
     "schema_version": 3,
     "solution": false,
     "task": false
    }
   },
   "source": [
    "## Sequence to Sequence A) [5 points]\n",
    "\n",
    "### Tokenize the data using keras built-in tokenizer.\n",
    "\n",
    "Since our outputs are also sequences, we need to fit our tokenizer on the combined input and output (```X_train + Y_train```).\n",
    "\n",
    "Finally create the four variables ```X_train_sequences```, ```Y_train_sequences```, ```X_test_sequences``` and ```Y_test_sequences``` from your train and test data.\n",
    "\n",
    "Since all inputs and outputs have the same lenght, we do not need to apply any padding / truncating of the sequences."
   ]
  },
  {
   "cell_type": "code",
   "execution_count": 241,
   "id": "intelligent-composite",
   "metadata": {
    "deletable": false,
    "nbgrader": {
     "cell_type": "code",
     "checksum": "593901258012e65dc17e889ba59cd6ca",
     "grade": false,
     "grade_id": "EncoderDecoder_A",
     "locked": false,
     "schema_version": 3,
     "solution": true,
     "task": false
    }
   },
   "outputs": [
    {
     "name": "stdout",
     "output_type": "stream",
     "text": [
      "(8500, 10)\n",
      "(8500, 10)\n",
      "(1500, 10)\n",
      "(1500, 10)\n",
      "{'1': 1, '-': 2, '0': 3, '2': 4, '5': 5, '6': 6, '7': 7, '4': 8, '8': 9, '3': 10, '9': 11}\n"
     ]
    }
   ],
   "source": [
    "tokenizer = None\n",
    "\n",
    "tokenizer = Tokenizer()\n",
    "\n",
    "tokenizer.fit_on_texts(X_train + Y_train) \n",
    "X_train_sequences = tokenizer.texts_to_sequences(X_train)\n",
    "Y_train_sequences = tokenizer.texts_to_sequences(Y_train)\n",
    "X_test_sequences  = tokenizer.texts_to_sequences(X_test)\n",
    "Y_test_sequences  = tokenizer.texts_to_sequences(Y_test)\n",
    "\n",
    "# Make sure we are working with numpy arrays:\n",
    "\n",
    "X_train_sequences = np.array(X_train_sequences)\n",
    "Y_train_sequences = np.array(Y_train_sequences)\n",
    "X_test_sequences = np.array(X_test_sequences)\n",
    "Y_test_sequences = np.array(Y_test_sequences)\n",
    "\n",
    "print(X_train_sequences.shape) # Should print (4250, 10)\n",
    "print(Y_train_sequences.shape) # Should print (4250, 10)\n",
    "\n",
    "print(X_test_sequences.shape)  # Should print (750, 10)\n",
    "print(Y_test_sequences.shape)  # Should print (750, 10)\n",
    "\n",
    "print(tokenizer.word_index)"
   ]
  },
  {
   "cell_type": "code",
   "execution_count": null,
   "id": "seasonal-career",
   "metadata": {
    "deletable": false,
    "editable": false,
    "nbgrader": {
     "cell_type": "code",
     "checksum": "7e018de76fd68dab61e44bc302f09cee",
     "grade": true,
     "grade_id": "test_EncoderDecoder_A0",
     "locked": true,
     "points": 5,
     "schema_version": 3,
     "solution": false,
     "task": false
    }
   },
   "outputs": [],
   "source": [
    "# This is a test cell. Please ignore it!"
   ]
  },
  {
   "cell_type": "markdown",
   "id": "affecting-bride",
   "metadata": {
    "deletable": false,
    "editable": false,
    "nbgrader": {
     "cell_type": "markdown",
     "checksum": "67cf47fba8df96008ac8d1f9158e940d",
     "grade": false,
     "grade_id": "EncoderDecoder_B_Description0",
     "locked": true,
     "schema_version": 3,
     "solution": false,
     "task": false
    }
   },
   "source": [
    "## Sequence to Sequence B) [25 points]\n",
    "\n",
    "### Define your model\n",
    "\n",
    "Create a model consisting of:\n",
    "\n",
    "- An embedding layer with output dimensionality of $64$\n",
    "- A LSTM layer (Encoder) with outputs of size $32$\n",
    "- A LSTM layer (Decoder) with outputs of size $32$\n",
    "- A dense layer\n",
    "- An activation layer using the softmax\n",
    "\n",
    "**Attention:** You will need the ```RepeatVector``` and ```TimeDistributed``` objects.\n",
    "\n",
    "- ```RepeatVector``` takes a vector as an input and repeats it $n$ times. This is useful to repeat the output of the encoder such that the decoder is fed the last output of encoder at each time step.\n",
    "- ```TimeDistributed``` is a wrapper around a layer (e.g. a dense layer) that takes a sequence of inputs and creates a sequence of outputs by applying the layer to each element of the input sequence.\n",
    "\n",
    "Your model summary should look similar to this:\n",
    "\n",
    "```\n",
    "Model: \"Seq2Seq\"\n",
    "_________________________________________________________________\n",
    "Layer (type)                 Output Shape              Param #   \n",
    "=================================================================\n",
    "input_1 (InputLayer)         [(None, 10)]              0         \n",
    "_________________________________________________________________\n",
    "embedding (Embedding)        (None, 10, 64)            768       \n",
    "_________________________________________________________________\n",
    "lstm (LSTM)                  (None, 32)                12416     \n",
    "_________________________________________________________________\n",
    "repeat_vector (RepeatVector) (None, 10, 32)            0         \n",
    "_________________________________________________________________\n",
    "lstm_1 (LSTM)                (None, 10, 32)            8320      \n",
    "_________________________________________________________________\n",
    "time_distributed (TimeDistri (None, 10, 12)            396       \n",
    "_________________________________________________________________\n",
    "activation (Activation)      (None, 10, 12)            0         \n",
    "=================================================================\n",
    "Total params: 21,900\n",
    "Trainable params: 21,900\n",
    "Non-trainable params: 0\n",
    "_________________________________________________________________\n",
    "```"
   ]
  },
  {
   "cell_type": "code",
   "execution_count": 227,
   "id": "irish-replication",
   "metadata": {
    "deletable": false,
    "nbgrader": {
     "cell_type": "code",
     "checksum": "271e7199046b7beba2453135d34ab83e",
     "grade": true,
     "grade_id": "EncoderDecoder_B",
     "locked": false,
     "points": 25,
     "schema_version": 3,
     "solution": true,
     "task": false
    }
   },
   "outputs": [
    {
     "name": "stdout",
     "output_type": "stream",
     "text": [
      "Model: \"Seq2Seq\"\n",
      "_________________________________________________________________\n",
      "Layer (type)                 Output Shape              Param #   \n",
      "=================================================================\n",
      "input_1 (InputLayer)         [(None, 10)]              0         \n",
      "_________________________________________________________________\n",
      "embedding (Embedding)        (None, 10, 64)            768       \n",
      "_________________________________________________________________\n",
      "lstm (LSTM)                  (None, 32)                12416     \n",
      "_________________________________________________________________\n",
      "repeat_vector (RepeatVector) (None, 10, 32)            0         \n",
      "_________________________________________________________________\n",
      "lstm_1 (LSTM)                (None, 10, 32)            8320      \n",
      "_________________________________________________________________\n",
      "time_distributed_22 (TimeDis (None, 10, 12)            396       \n",
      "_________________________________________________________________\n",
      "activation (Activation)      (None, 10, 12)            0         \n",
      "=================================================================\n",
      "Total params: 21,900\n",
      "Trainable params: 21,900\n",
      "Non-trainable params: 0\n",
      "_________________________________________________________________\n"
     ]
    }
   ],
   "source": [
    "Seq2Seq = None\n",
    "\n",
    "# Define input object\n",
    "input_layer = Input(shape=(10,), name='input_1')\n",
    "\n",
    "# Define Embedding layer and apply it to input layer\n",
    "embedding_layer = Embedding(12, 64, name='embedding')\n",
    "y_embedded = embedding_layer(input_layer)\n",
    "\n",
    "# Define LSTM encoder layer and apply it to embedding layer output\n",
    "lstm_layer_1 = LSTM(32, name='lstm')\n",
    "y_lstm = lstm_layer_1(y_embedded)\n",
    "\n",
    "# Define RepeatVector layer and apply it to lstm layer output\n",
    "repeat_vector_layer = RepeatVector(10, name='repeat_vector')\n",
    "y_repeat_vector = repeat_vector_layer(y_lstm)\n",
    "\n",
    "# Define LSTM decoder layer and apply it to repeat vector layer output\n",
    "lstm_layer_2 = LSTM(32, name='lstm_1', return_sequences=True)\n",
    "y_lstm_2 = lstm_layer_2(y_repeat_vector)\n",
    "\n",
    "# Define TimeDistributed layer and apply it to 2nd lstm ayer output\n",
    "hidden_layer = Dense(12, activation='relu')\n",
    "time_dist_layer = TimeDistributed(hidden_layer)\n",
    "y_time_dist = time_dist_layer(y_lstm_2)\n",
    "\n",
    "# Find the output \n",
    "output_layer = Activation(activation='softmax', name='activation')\n",
    "y = output_layer(y_time_dist)\n",
    "\n",
    "# Build model\n",
    "seq2seq_model = Model(input_layer, y, name='Seq2Seq')\n",
    "\n",
    "# Print model summary\n",
    "seq2seq_model.summary()"
   ]
  },
  {
   "cell_type": "markdown",
   "id": "alert-barcelona",
   "metadata": {
    "deletable": false,
    "editable": false,
    "nbgrader": {
     "cell_type": "markdown",
     "checksum": "417b7b1eb6535b7fdea735b79eee9704",
     "grade": false,
     "grade_id": "EncoderDecoder_C_Description0",
     "locked": true,
     "schema_version": 3,
     "solution": false,
     "task": false
    }
   },
   "source": [
    "## Sequence to Sequence C) [5 points]\n",
    "\n",
    "### Compile your model\n",
    "\n",
    "Compile your model using adam as an optimizer, accuracy as a metric and sparse_categorical_crossentropy as your loss.\n",
    "\n",
    "Then fit your model on the training data using $20$ epochs and a batch size of $32$."
   ]
  },
  {
   "cell_type": "code",
   "execution_count": 228,
   "id": "offshore-october",
   "metadata": {
    "deletable": false,
    "nbgrader": {
     "cell_type": "code",
     "checksum": "94b7054135731536c20195730e20f88b",
     "grade": true,
     "grade_id": "EncoderDecoder_C",
     "locked": false,
     "points": 5,
     "schema_version": 3,
     "solution": true,
     "task": false
    }
   },
   "outputs": [
    {
     "name": "stdout",
     "output_type": "stream",
     "text": [
      "\n",
      "Test results - Loss: 0.1934 - Accuracy: 94.38%\n"
     ]
    }
   ],
   "source": [
    "# Compile model\n",
    "seq2seq_model.compile(\n",
    "    loss='sparse_categorical_crossentropy',\n",
    "    optimizer='adam',\n",
    "    metrics=['accuracy']\n",
    ")\n",
    "\n",
    "# Fit model on training data\n",
    "history = seq2seq_model.fit(\n",
    "    x=X_train_sequences,\n",
    "    y=Y_train_sequences,\n",
    "    epochs=20,\n",
    "    batch_size=32,\n",
    "    verbose=0\n",
    ")\n",
    "\n",
    "# Test the model after training\n",
    "test_results = seq2seq_model.evaluate(X_test_sequences, Y_test_sequences, verbose=False)\n",
    "print()\n",
    "print(f'Test results - Loss: {test_results[0]:.4f} - Accuracy: {100*test_results[1]:.2f}%')"
   ]
  },
  {
   "cell_type": "markdown",
   "id": "clear-brazilian",
   "metadata": {
    "deletable": false,
    "editable": false,
    "nbgrader": {
     "cell_type": "markdown",
     "checksum": "6e768cc721ffd75054f73c6dbbad95b0",
     "grade": false,
     "grade_id": "EncoderDecoder_D_Description0",
     "locked": true,
     "schema_version": 3,
     "solution": false,
     "task": false
    }
   },
   "source": [
    "## Sequence to Sequence D) [10 points]\n",
    " \n",
    "### Use your model for inference\n",
    "\n",
    "We now want to use the model to convert a single date (```20-05-1973```).\n",
    "\n",
    "This process consists of the following steps:\n",
    "\n",
    "1. Convert the date to a sequence.\n",
    "2. Predict the output of the model for that sequence\n",
    "3. Print the predicted date\n",
    "\n",
    "The prediction will be a sequence of vectors, where each element in the vector corresponds to the probability of that vector representing the token with that index. \n",
    "\n",
    "Example:\n",
    "\n",
    "The output of your model would be the ten vectors $[v_0, v_1, v_2, ..., v_9]$. Now each vector has 12 elements:\n",
    "\n",
    "$v_i = [a_0, a_1, ... ,a_{10}, a_{11}]$, $\\quad\\sum_{i=0}^{11} a_i = 1$. (Because of applying the softmax)\n",
    "\n",
    "The element $a_1$ is the probability that the predicted token is the one with index $1$. \n",
    "\n",
    "To convert each of the vectors $v_i$ to an integer index we need to find the index of the largest $a_i$ of that vector (argmax).\n",
    "\n",
    "Then we get an output sequence like $[1, 4, 2, 5, 3, 7, 6, 3, 2, 4]$. This sequence can now be converted back to a text using the method ```sequences_to_texts``` of the tokenizer."
   ]
  },
  {
   "cell_type": "code",
   "execution_count": 277,
   "id": "median-costume",
   "metadata": {
    "deletable": false,
    "nbgrader": {
     "cell_type": "code",
     "checksum": "4c06124dce7f9b940ad1a541d7f903b1",
     "grade": true,
     "grade_id": "EncoderDecoder_D",
     "locked": false,
     "points": 10,
     "schema_version": 3,
     "solution": true,
     "task": false
    }
   },
   "outputs": [
    {
     "name": "stdout",
     "output_type": "stream",
     "text": [
      "Predicted output is: ['1 9 7 3 - 0 5 - 2 0']\n"
     ]
    }
   ],
   "source": [
    "test_sample = [list('20-05-1973')]\n",
    "test_sample_sequence = tokenizer.texts_to_sequences(test_sample)\n",
    "prediction = seq2seq_model.predict(test_sample_sequence)\n",
    "\n",
    "predicted_indices = []\n",
    "for vector in prediction[0]:\n",
    "    predicted_indices.append(np.argmax(vector))\n",
    "\n",
    "print(\"Predicted output is:\", tokenizer.sequences_to_texts([predicted_indices]))"
   ]
  }
 ],
 "metadata": {
  "kernelspec": {
   "display_name": "Python 3",
   "language": "python",
   "name": "python3"
  },
  "language_info": {
   "codemirror_mode": {
    "name": "ipython",
    "version": 3
   },
   "file_extension": ".py",
   "mimetype": "text/x-python",
   "name": "python",
   "nbconvert_exporter": "python",
   "pygments_lexer": "ipython3",
   "version": "3.8.6"
  }
 },
 "nbformat": 4,
 "nbformat_minor": 5
}
